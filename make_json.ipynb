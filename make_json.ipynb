{
 "cells": [
  {
   "cell_type": "code",
   "execution_count": 13,
   "metadata": {
    "collapsed": false
   },
   "outputs": [],
   "source": [
    "from glob import glob\n",
    "from urllib.parse import unquote\n",
    "import json\n",
    "\n",
    "TEXT_BASE_PATH = 'texts'"
   ]
  },
  {
   "cell_type": "code",
   "execution_count": 14,
   "metadata": {
    "collapsed": false
   },
   "outputs": [
    {
     "name": "stdout",
     "output_type": "stream",
     "text": [
      "record count: 28480\n"
     ]
    }
   ],
   "source": [
    "db = []\n",
    "min_date = None\n",
    "max_date = None\n",
    "for year in glob(TEXT_BASE_PATH + '/*'):\n",
    "    for record_path in glob(year + '/*'):\n",
    "        filename = record_path.split('/')[-1]\n",
    "        _, publish_date, visited_time, url = filename.split('_', maxsplit=3)\n",
    "        visited_time = visited_time.replace('visited=', '')\n",
    "        url = unquote(url.replace('.txt', ''))\n",
    "        \n",
    "        if min_date is None:\n",
    "            min_date = publish_date\n",
    "        max_date = publish_date\n",
    "        \n",
    "        f = open(record_path, encoding='utf-8')\n",
    "        content = f.read()       \n",
    "        db.append({\n",
    "                \"publish_date\": publish_date,\n",
    "                \"visited_time\": visited_time,\n",
    "                \"url\": url,\n",
    "                \"content\": content,\n",
    "                \"path\": record_path.replace(\"texts/\", \"posts/\").replace(\"text_\", \"post_\").replace(\".shtml.txt\", \".shtml\")\n",
    "        })\n",
    "print('record count:', len(db))"
   ]
  },
  {
   "cell_type": "code",
   "execution_count": 15,
   "metadata": {
    "collapsed": false
   },
   "outputs": [
    {
     "name": "stdout",
     "output_type": "stream",
     "text": [
      "exporting json\n",
      "finished exporting\n"
     ]
    }
   ],
   "source": [
    "print('exporting json')\n",
    "json_dump = json.dumps(db, sort_keys=True, indent=2, ensure_ascii=False)\n",
    "f = open('xinwenlianbo_text_' + min_date + '-' + max_date + '.json', 'w', encoding='utf-8')\n",
    "f.write(json_dump)\n",
    "f.close()\n",
    "print('finished exporting')"
   ]
  }
 ],
 "metadata": {
  "kernelspec": {
   "display_name": "Python 3",
   "language": "python",
   "name": "python3"
  },
  "language_info": {
   "codemirror_mode": {
    "name": "ipython",
    "version": 3
   },
   "file_extension": ".py",
   "mimetype": "text/x-python",
   "name": "python",
   "nbconvert_exporter": "python",
   "pygments_lexer": "ipython3",
   "version": "3.4.3"
  }
 },
 "nbformat": 4,
 "nbformat_minor": 0
}
